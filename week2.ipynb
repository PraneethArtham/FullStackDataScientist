{
 "cells": [
  {
   "cell_type": "code",
   "execution_count": 19,
   "id": "bf8d8156",
   "metadata": {},
   "outputs": [
    {
     "name": "stdout",
     "output_type": "stream",
     "text": [
      "[2, 3, 5, 7, 11, 13, 17, 19]\n"
     ]
    }
   ],
   "source": [
    "'''1. Prime Number Finder\n",
    " \n",
    "   * Function that returns all prime numbers up to `n`.\n",
    "   * Input: `n = 20`\n",
    "   * Output: `[2, 3, 5, 7, 11, 13, 17, 19]`\n",
    " '''\n",
    "n=int(input())\n",
    "res=[]\n",
    "for i in range(2,n+1):\n",
    "    flag=True\n",
    "    for j in range(2,int(i**(0.5))+1):\n",
    "        if(i%j==0):\n",
    "            flag=False\n",
    "            break\n",
    "    if(flag):\n",
    "        res.append(i)\n",
    "print(res)"
   ]
  },
  {
   "cell_type": "code",
   "execution_count": 29,
   "id": "a8233b59",
   "metadata": {},
   "outputs": [
    {
     "name": "stdout",
     "output_type": "stream",
     "text": [
      "Palindrome number: aa \n"
     ]
    }
   ],
   "source": [
    "'''2. Palindrome Checker\n",
    " \n",
    "   * Check if a string is palindrome (ignoring spaces & case).\n",
    "   * Input: `\"Never odd or even\"`\n",
    "   * Output: `True`'''\n",
    "s=str(input())\n",
    "i=0\n",
    "j=len(s)-1\n",
    "flag=True\n",
    "while(i<=j):\n",
    "    if(s[i]==\" \"):\n",
    "        i+=1\n",
    "    if(s[j]==\" \"):\n",
    "        j-=1\n",
    "    if(s[i].lower()!=s[j].lower()):\n",
    "        flag=False\n",
    "        break\n",
    "    i+=1\n",
    "    j-=1\n",
    "if(flag):\n",
    "    print(\"Palindrome number:\",s)\n",
    "else:\n",
    "    print(\"Not a Palindrome number:\",s)\n"
   ]
  },
  {
   "cell_type": "code",
   "execution_count": 30,
   "id": "168b1280",
   "metadata": {},
   "outputs": [
    {
     "name": "stdout",
     "output_type": "stream",
     "text": [
      "Anagrams\n"
     ]
    }
   ],
   "source": [
    "'''3. Anagram Checker\n",
    " \n",
    "   * Function checks if two words are anagrams.\n",
    "   * Input: `\"listen\", \"silent\"`\n",
    "   * Output: `True`'''\n",
    "from collections import Counter\n",
    "a,b=map(str,input().split())\n",
    "if(Counter(a)==Counter(b)):\n",
    "    print(\"Anagrams\")\n",
    "else:\n",
    "    print(\"Not a anagrams\")"
   ]
  },
  {
   "cell_type": "code",
   "execution_count": null,
   "id": "02cc55d3",
   "metadata": {},
   "outputs": [
    {
     "name": "stdout",
     "output_type": "stream",
     "text": [
      "Vowel count is  2\n",
      "Consonants count is  3\n"
     ]
    }
   ],
   "source": [
    "'''4. Count Vowels & Consonants\n",
    " \n",
    "   * Return count of vowels & consonants.\n",
    "   * Input: `\"hello\"`\n",
    "   * Output: `Vowels=2, Consonants=3`\n",
    " '''\n",
    "s=str(input())\n",
    "vowels='aeiouAEIOU'\n",
    "vcount=0\n",
    "ccount=0\n",
    "for i in s:\n",
    "    if i in vowels:\n",
    "        vcount+=1\n",
    "    else:\n",
    "        ccount+=1\n",
    "print(\"Vowel count is \",vcount)\n",
    "print(\"Consonants count is \",ccount)"
   ]
  },
  {
   "cell_type": "code",
   "execution_count": 35,
   "id": "9d5a4ae3",
   "metadata": {},
   "outputs": [
    {
     "name": "stdout",
     "output_type": "stream",
     "text": [
      "praneeth\n"
     ]
    }
   ],
   "source": [
    "'''5. Longest Word Finder\n",
    " \n",
    "* Return longest word in a sentence.\n",
    "* Input: `\"Python is amazing\"`\n",
    "* Output: `\"amazing\"`'''\n",
    "s=str(input())\n",
    "list1=s.split(\" \")\n",
    "maxl=0\n",
    "maxs=\"\"\n",
    "for i in list1:\n",
    "    if(len(i)>maxl):\n",
    "        maxl=max(maxl,len(i))\n",
    "        maxs=i\n",
    "print(maxs)"
   ]
  },
  {
   "cell_type": "code",
   "execution_count": 74,
   "id": "c3e8bbaf",
   "metadata": {},
   "outputs": [
    {
     "name": "stdout",
     "output_type": "stream",
     "text": [
      "?3a!M^&\n"
     ]
    }
   ],
   "source": [
    "''''1. Random Password Generator (`random`, `string`)\n",
    " \n",
    "* Input: `length=6`\n",
    "* Output: `\"aB9@xQ\"`'''\n",
    "import random\n",
    "n=int(input())\n",
    "s=\"\"\n",
    "for i in range(n):\n",
    "    r=int(random.random()*100)\n",
    "    while(r<32):\n",
    "        r=int(random.random()*100)\n",
    "    s+=chr(r)\n",
    "print(s)"
   ]
  },
  {
   "cell_type": "code",
   "execution_count": 82,
   "id": "69b5fb8f",
   "metadata": {},
   "outputs": [
    {
     "name": "stdout",
     "output_type": "stream",
     "text": [
      "6\n"
     ]
    }
   ],
   "source": [
    "'''2. Simple Calculator with `math`\n",
    " \n",
    "* Perform sqrt, factorial, sin, cos.\n",
    "* Input: `sqrt(25)`\n",
    "* Output: `5.0`'''\n",
    "s=str(input())\n",
    "val=\"\"\n",
    "flag=False\n",
    "for i in s:\n",
    "    if(i==\"(\"):\n",
    "        flag=True\n",
    "        continue\n",
    "    if(i==\")\"):\n",
    "        flag=False\n",
    "        break\n",
    "    if(flag):\n",
    "        val+=i\n",
    "    if(i==\")\"):\n",
    "        flag=False\n",
    "        break\n",
    "val=int(val)\n",
    "if(\"sqrt\" in s):\n",
    "    print(math.sqrt(val))\n",
    "elif(\"fact\" in s):\n",
    "    print(math.factorial(val))\n",
    "elif(\"sin\" in s):\n",
    "    print(math.sin(val))\n",
    "elif(\"cos\" in s):\n",
    "    print(math.cos(val))"
   ]
  },
  {
   "cell_type": "code",
   "execution_count": 90,
   "id": "ac74e6b2",
   "metadata": {},
   "outputs": [
    {
     "name": "stdout",
     "output_type": "stream",
     "text": [
      "({'cat': 2, 'dog': 1})\n"
     ]
    }
   ],
   "source": [
    "'''3. Word Frequency Counter (`collections.Counter`)\n",
    " \n",
    "* Input: `\"cat dog cat\"`\n",
    "* Output: `{'cat':2,'dog':1}`'''\n",
    "s=str(input())\n",
    "l=s.split(\" \")\n",
    "ans=str(Counter(l))\n",
    "print(ans[7:])"
   ]
  },
  {
   "cell_type": "code",
   "execution_count": 92,
   "id": "b08bf78b",
   "metadata": {},
   "outputs": [
    {
     "name": "stdout",
     "output_type": "stream",
     "text": [
      "5\n",
      "4\n",
      "3\n",
      "2\n",
      "1\n",
      "0\n",
      "Time’s up!\n"
     ]
    }
   ],
   "source": [
    "'''5. Timer Program (`time`)\n",
    " \n",
    "* Input: `countdown(5)`\n",
    "* Output:\n",
    " \n",
    "  ```\n",
    "  5  \n",
    "  4  \n",
    "  3  \n",
    "  2  \n",
    "  1  \n",
    "  Time’s up!\n",
    "  ```'''\n",
    "s=str(input())\n",
    "val=\"\"\n",
    "flag=False\n",
    "for i in s:\n",
    "    if(i==\"(\"):\n",
    "        flag=True\n",
    "        continue\n",
    "    if(i==\")\"):\n",
    "        flag=False\n",
    "        break\n",
    "    if(flag):\n",
    "        val+=i\n",
    "    if(i==\")\"):\n",
    "        flag=False\n",
    "        break\n",
    "val=int(val)\n",
    "for i in range(val,-1,-1):\n",
    "    print(i)\n",
    "print(\"Time’s up!\")"
   ]
  },
  {
   "cell_type": "code",
   "execution_count": 100,
   "id": "21d9287c",
   "metadata": {},
   "outputs": [
    {
     "name": "stdout",
     "output_type": "stream",
     "text": [
      "Weather: Cloudy, Temp: 24°C\n"
     ]
    }
   ],
   "source": [
    "'''4. Weather Simulator (`random`)\n",
    " \n",
    "* Input: None\n",
    "* Output: `\"Weather: Sunny, Temp: 32°C\"`'''\n",
    "import random\n",
    "\n",
    "def weather_simulator():\n",
    "    weather_conditions = [\"Sunny\", \"Rainy\", \"Cloudy\", \"Windy\", \"Stormy\"]\n",
    "    weather = random.choice(weather_conditions)       \n",
    "    temperature = random.randint(15, 40)              \n",
    "    print(f\"Weather: {weather}, Temp: {temperature}°C\")\n",
    "\n",
    "weather_simulator()\n"
   ]
  },
  {
   "cell_type": "code",
   "execution_count": null,
   "id": "f145ee07",
   "metadata": {},
   "outputs": [],
   "source": [
    "'''1. Bank Account Class\n",
    " \n",
    "Attributes:\n",
    " \n",
    "* balance → stores the current money in the account\n",
    "* owner (optional) → name of account holder\n",
    " \n",
    "Methods:\n",
    " \n",
    "* deposit(amount) → adds money to balance\n",
    "* withdraw(amount) → subtracts money if enough funds\n",
    "* get_balance() → returns balance\n",
    " \n",
    "Example:\n",
    " \n",
    "python\n",
    "acc = BankAccount(100)   # initial balance = 100\n",
    "acc.deposit(50)          # balance = 150\n",
    "acc.withdraw(30)         # balance = 120\n",
    "print(acc.get_balance())\n",
    "\n",
    " \n",
    "Output:\n",
    " \n",
    "\n",
    "Balance: 120\n",
    "'''\n",
    "class Bank:\n",
    "    def __init__(self,bal):\n",
    "        self.balance=bal\n",
    "    def withdraw(amount):\n",
    "        if(amount>self.balance):\n",
    "            print(\"Unsuccessful\")\n",
    "        else:\n",
    "            print(\"successful\")\n",
    "            self.balance-=amount\n",
    "    def depoist(amount):\n",
    "        "
   ]
  }
 ],
 "metadata": {
  "kernelspec": {
   "display_name": "Python 3",
   "language": "python",
   "name": "python3"
  },
  "language_info": {
   "codemirror_mode": {
    "name": "ipython",
    "version": 3
   },
   "file_extension": ".py",
   "mimetype": "text/x-python",
   "name": "python",
   "nbconvert_exporter": "python",
   "pygments_lexer": "ipython3",
   "version": "3.10.0"
  }
 },
 "nbformat": 4,
 "nbformat_minor": 5
}
