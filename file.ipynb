{
 "cells": [
  {
   "cell_type": "code",
   "execution_count": 3,
   "metadata": {},
   "outputs": [
    {
     "name": "stdout",
     "output_type": "stream",
     "text": [
      "Hello 1\n"
     ]
    }
   ],
   "source": [
    "print(\"Hello 1\")"
   ]
  },
  {
   "cell_type": "code",
   "execution_count": null,
   "metadata": {},
   "outputs": [
    {
     "name": "stdout",
     "output_type": "stream",
     "text": [
      "10 5\n"
     ]
    }
   ],
   "source": [
    "#swap\n",
    "a=int(input(\"Enter a :\"))\n",
    "b=int(input(\"Enter b:\"))\n",
    "a=a+b\n",
    "b=a-b\n",
    "a=a-b\n",
    "print(a,b)"
   ]
  },
  {
   "cell_type": "code",
   "execution_count": 15,
   "metadata": {},
   "outputs": [
    {
     "name": "stdout",
     "output_type": "stream",
     "text": [
      "hteenarp\n"
     ]
    }
   ],
   "source": [
    "#reverse\n",
    "a=str(input())\n",
    "a=list(a)\n",
    "l=0\n",
    "h=len(a)-1\n",
    "while(l<=h):\n",
    "    a[l],a[h]=a[h],a[l]\n",
    "    l+=1\n",
    "    h-=1\n",
    "a=''.join(a)\n",
    "print(a)"
   ]
  },
  {
   "cell_type": "code",
   "execution_count": 21,
   "metadata": {},
   "outputs": [
    {
     "name": "stdout",
     "output_type": "stream",
     "text": [
      "Armstrong number\n"
     ]
    }
   ],
   "source": [
    "#armstrong number\n",
    "a=int(input())\n",
    "temp=a\n",
    "sum1=0\n",
    "while(temp>0):\n",
    "    sum1+=(temp%10)**3\n",
    "    temp=temp//10\n",
    "if(sum1==a):\n",
    "    print(\"Armstrong number\")\n",
    "else:\n",
    "    print(\"Not a armstrong number\")"
   ]
  },
  {
   "cell_type": "code",
   "execution_count": 23,
   "metadata": {},
   "outputs": [
    {
     "name": "stdout",
     "output_type": "stream",
     "text": [
      "vowels count is 5\n",
      "constant count is 0\n"
     ]
    }
   ],
   "source": [
    "#number of vowels and constants in str\n",
    "a=str(input())\n",
    "vowels=\"AEIOUaeiou\"\n",
    "vcount=0\n",
    "for i in a:\n",
    "    if(i in vowels):\n",
    "        vcount+=1\n",
    "ccount=len(a)-vcount\n",
    "print(\"vowels count is\",vcount)\n",
    "print(\"constant count is\",ccount)"
   ]
  },
  {
   "cell_type": "code",
   "execution_count": 25,
   "metadata": {},
   "outputs": [
    {
     "name": "stdout",
     "output_type": "stream",
     "text": [
      "5 * 1 = 5\n",
      "5 * 2 = 10\n",
      "5 * 3 = 15\n",
      "5 * 4 = 20\n",
      "5 * 5 = 25\n",
      "5 * 6 = 30\n",
      "5 * 7 = 35\n",
      "5 * 8 = 40\n",
      "5 * 9 = 45\n",
      "5 * 10 = 50\n"
     ]
    }
   ],
   "source": [
    "#multiplication table\n",
    "a=int(input())\n",
    "for i in range(1,11):\n",
    "    print(a,\"*\",i,\"=\",a*i)\n"
   ]
  },
  {
   "cell_type": "code",
   "execution_count": 27,
   "metadata": {},
   "outputs": [
    {
     "name": "stdout",
     "output_type": "stream",
     "text": [
      "Leap year\n"
     ]
    }
   ],
   "source": [
    "#leapyear\n",
    "a=int(input())\n",
    "if(a%4==0 and a%100!=0) or a%400==0:\n",
    "    print(\"Leap year\")\n",
    "else:\n",
    "    print(\"Not  a leap yar\")"
   ]
  },
  {
   "cell_type": "code",
   "execution_count": null,
   "metadata": {},
   "outputs": [
    {
     "name": "stdout",
     "output_type": "stream",
     "text": [
      "5\n"
     ]
    }
   ],
   "source": [
    "#largest score in 5 attempts\n",
    "a=list(map(int,input().split()))\n",
    "a=a[0:5]\n",
    "print(max(a))"
   ]
  },
  {
   "cell_type": "code",
   "execution_count": null,
   "metadata": {},
   "outputs": [
    {
     "name": "stdout",
     "output_type": "stream",
     "text": [
      "is a Palindrome \n"
     ]
    }
   ],
   "source": [
    "def palindrome(s):\n",
    "    l=0\n",
    "    h=len(s)-1\n",
    "    while(l<=h):\n",
    "        if(s[l]!=s[h]):\n",
    "            return False\n",
    "        l+=1\n",
    "        h-=1\n",
    "    return True\n",
    "s=str(input())\n",
    "if(palindrome(s)):\n",
    "    print(s,\"is a Palindrome \")\n",
    "else:\n",
    "    print(s,\"is not a Palindrome \")"
   ]
  },
  {
   "cell_type": "code",
   "execution_count": null,
   "metadata": {},
   "outputs": [
    {
     "name": "stdout",
     "output_type": "stream",
     "text": [
      "5040\n"
     ]
    }
   ],
   "source": [
    "#factorial\n",
    "a=int(input())\n",
    "fact=1\n",
    "while(a!=0):\n",
    "    fact*=a\n",
    "    a-=1\n",
    "print(fact)"
   ]
  },
  {
   "cell_type": "code",
   "execution_count": 49,
   "metadata": {},
   "outputs": [
    {
     "name": "stdout",
     "output_type": "stream",
     "text": [
      "15\n",
      "30\n",
      "45\n",
      "60\n",
      "75\n",
      "90\n"
     ]
    }
   ],
   "source": [
    "#divisible by 3 and 5\n",
    "for i in range(1,101):\n",
    "    if(i%3==0 and i%5==0):\n",
    "        print(i)\n"
   ]
  }
 ],
 "metadata": {
  "kernelspec": {
   "display_name": "Python 3",
   "language": "python",
   "name": "python3"
  },
  "language_info": {
   "codemirror_mode": {
    "name": "ipython",
    "version": 3
   },
   "file_extension": ".py",
   "mimetype": "text/x-python",
   "name": "python",
   "nbconvert_exporter": "python",
   "pygments_lexer": "ipython3",
   "version": "3.11.0"
  }
 },
 "nbformat": 4,
 "nbformat_minor": 2
}
