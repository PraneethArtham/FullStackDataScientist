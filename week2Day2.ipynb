{
 "cells": [
  {
   "cell_type": "code",
   "execution_count": null,
   "id": "15c127f5",
   "metadata": {},
   "outputs": [
    {
     "name": "stdout",
     "output_type": "stream",
     "text": [
      "Total words: 1\n"
     ]
    }
   ],
   "source": [
    "#1. Problem: Given a text file, count the total number of words\n",
    "def count_words(filename):\n",
    "    try:\n",
    "        with open(filename, \"r\") as file:\n",
    "            text = file.read()\n",
    "            words = text.split()\n",
    "            return len(words)\n",
    "    except FileNotFoundError:\n",
    "        return \"File not found!\"\n",
    "\n",
    "filename = \"sample.txt\"  \n",
    "print(\"Total words:\", count_words(filename))\n"
   ]
  },
  {
   "cell_type": "code",
   "execution_count": null,
   "id": "641b3002",
   "metadata": {},
   "outputs": [
    {
     "name": "stdout",
     "output_type": "stream",
     "text": [
      " String pass\n"
     ]
    }
   ],
   "source": [
    "'''2. Problem: Write a program to check if a password is strong (at least 8 characters, contains uppercase, lowercase, digit, and special char).\n",
    "'''\n",
    "def strong(s):\n",
    "    if(len(s)<8):\n",
    "        return False\n",
    "    ucount=lcount=dcount=scount=0\n",
    "    for i in s:\n",
    "        if(i.islower()):\n",
    "            lcount+=1\n",
    "        elif(i.isupper()):\n",
    "            ucount+=1\n",
    "        elif(i.isdigit()):\n",
    "            dcount+=1\n",
    "        else:\n",
    "            scount+=1\n",
    "    if(lcount>=1 and ucount>=1 and dcount>=1 and scount>=1):\n",
    "        return True\n",
    "    return False\n",
    "s=str(input())\n",
    "if(strong(s)):\n",
    "    print(\" Strong pass\")\n",
    "else:\n",
    "    print(\"Not a strong pass\")"
   ]
  },
  {
   "cell_type": "code",
   "execution_count": 12,
   "id": "ad73e257",
   "metadata": {},
   "outputs": [
    {
     "name": "stdout",
     "output_type": "stream",
     "text": [
      "add value is  5\n"
     ]
    }
   ],
   "source": [
    "#3. Problem: Implement a calculator with +, -, *, / operations.\n",
    "a=int(input())\n",
    "b=int(input())\n",
    "option=str(input())\n",
    "if(\"add\" in option):\n",
    "    print(\"add value is \",a+b)\n",
    "elif(\"sub\" in option):\n",
    "    print(\"sub value is \",a-b)\n",
    "elif(\"mul\" in option):\n",
    "    print(\"mul value is \",a*b)\n",
    "elif(\"div\" in option):\n",
    "    if(b==0):\n",
    "        print(\"div not possible\")\n",
    "    else:\n",
    "        print(\"div value is \",a/b)\n",
    "else:\n",
    "    print(\"Invalidoption\")"
   ]
  },
  {
   "cell_type": "code",
   "execution_count": 15,
   "id": "b52bead9",
   "metadata": {},
   "outputs": [
    {
     "name": "stdout",
     "output_type": "stream",
     "text": [
      "{'hello'}\n"
     ]
    }
   ],
   "source": [
    "#4. Problem: Given a list of student names, find duplicates.\n",
    "l=list(map(str,input().split()))\n",
    "dup=set()\n",
    "for i in l:\n",
    "    if(l.count(i)>1):\n",
    "        dup.add(i)\n",
    "print(dup)"
   ]
  },
  {
   "cell_type": "code",
   "execution_count": 2,
   "id": "9ce82a3e",
   "metadata": {},
   "outputs": [
    {
     "name": "stdout",
     "output_type": "stream",
     "text": [
      "Fahren temp is  89.6\n"
     ]
    }
   ],
   "source": [
    "#5. Problem: Convert between Celsius and Fahrenheit.\n",
    "c=int(input())\n",
    "s=(c*(9/5))+32\n",
    "print(\"Fahren temp is \",s)\n"
   ]
  },
  {
   "cell_type": "code",
   "execution_count": 3,
   "id": "e4d8e1da",
   "metadata": {},
   "outputs": [
    {
     "name": "stdout",
     "output_type": "stream",
     "text": [
      "max value is  5\n"
     ]
    }
   ],
   "source": [
    "#6. Problem: Find the largest number from a list of integers.\n",
    "l=list(map(int,input().split()))\n",
    "m=l[0]\n",
    "for i in l:\n",
    "    if(i>m):\n",
    "        m=i\n",
    "print(\"max value is \",m)"
   ]
  },
  {
   "cell_type": "code",
   "execution_count": 4,
   "id": "f4aa5fbb",
   "metadata": {},
   "outputs": [
    {
     "name": "stdout",
     "output_type": "stream",
     "text": [
      "Simple Interest: 0.64\n"
     ]
    }
   ],
   "source": [
    "#7.. Problem: Calculate Simple Interest.\n",
    "def simple_interest(p, r, t):\n",
    "    return (p * r * t) / 100\n",
    "\n",
    "P = float(input(\"Enter Principal: \"))\n",
    "R = float(input(\"Enter Rate of Interest: \"))\n",
    "T = float(input(\"Enter Time: \"))\n",
    "\n",
    "SI = simple_interest(P, R, T)\n",
    "print(\"Simple Interest:\", SI)\n"
   ]
  },
  {
   "cell_type": "code",
   "execution_count": null,
   "id": "b801dad5",
   "metadata": {},
   "outputs": [
    {
     "name": "stdout",
     "output_type": "stream",
     "text": [
      "{}\n",
      "{'leela': 23}\n"
     ]
    }
   ],
   "source": [
    "#8. Problem: Given a dictionary of student names and attendance %, find defaulters (<75%).\n",
    "defaulter={}\n",
    "for i in range(2):\n",
    "    name=str(input(\"ENter name\"))\n",
    "    attendance=int(input(\"Enter attendance\"))\n",
    "    if(attendance<75):\n",
    "        defaulter[name]=attendance\n",
    "print(defaulter)\n"
   ]
  },
  {
   "cell_type": "code",
   "execution_count": 4,
   "id": "5d9a2acf",
   "metadata": {},
   "outputs": [
    {
     "name": "stdout",
     "output_type": "stream",
     "text": [
      "10\n"
     ]
    }
   ],
   "source": [
    "#9. Problem: Input: 1234 → Output: 10\n",
    "n=int(input())\n",
    "s=0\n",
    "while(n>0):\n",
    "    s+=n%10\n",
    "    n=n//10\n",
    "print(s)"
   ]
  },
  {
   "cell_type": "code",
   "execution_count": 1,
   "id": "5dfbab23",
   "metadata": {},
   "outputs": [
    {
     "name": "stdout",
     "output_type": "stream",
     "text": [
      "False\n"
     ]
    }
   ],
   "source": [
    "#10. Problem: Write a function to check if a number is prime.\n",
    "def prime(n):\n",
    "    flag=True\n",
    "    for i in range(2,int(n**0.5)+1):\n",
    "        if(n%i==0):\n",
    "            flag=False\n",
    "            return flag\n",
    "    return flag\n",
    "print(prime(4))"
   ]
  },
  {
   "cell_type": "code",
   "execution_count": 3,
   "id": "d8aa68fb",
   "metadata": {},
   "outputs": [
    {
     "name": "stdout",
     "output_type": "stream",
     "text": [
      "Min value is: 1\n",
      "max value is: 45\n"
     ]
    }
   ],
   "source": [
    "#11. Problem: Find smallest and largest numbers from a list.\n",
    "\n",
    "l=list(map(int,input().split()))\n",
    "minv=l[0]\n",
    "maxv=l[0]\n",
    "for i in l:\n",
    "    if(i>maxv):\n",
    "        maxv=i\n",
    "    if(i<minv):\n",
    "        minv=i\n",
    "print(\"Min value is:\",minv)\n",
    "print(\"max value is:\",maxv)"
   ]
  },
  {
   "cell_type": "code",
   "execution_count": 4,
   "id": "d59f0c74",
   "metadata": {},
   "outputs": [
    {
     "name": "stdout",
     "output_type": "stream",
     "text": [
      "Total bill is  2566\n"
     ]
    }
   ],
   "source": [
    "#12. Problem: Given items with prices in a dictionary, calculate total bill.\n",
    "d={}\n",
    "n=int(input(\"enter number of items\"))\n",
    "sum1=0\n",
    "for i in range(n):\n",
    "    items=str(input())\n",
    "    price=int(input())\n",
    "    d[items]=price\n",
    "    sum1+=price\n",
    "print(\"Total bill is \",sum1)"
   ]
  },
  {
   "cell_type": "code",
   "execution_count": 5,
   "id": "90ebc2a0",
   "metadata": {},
   "outputs": [
    {
     "name": "stdout",
     "output_type": "stream",
     "text": [
      "3  is largest\n"
     ]
    }
   ],
   "source": [
    "#13. Problem: Input 3 numbers, print the largest.\n",
    "a,b,c=map(int,input().split())\n",
    "if(a>b):\n",
    "    if(a>c):\n",
    "        print(a,\" is largest\")\n",
    "    else:\n",
    "        print(c,\" is largest\")\n",
    "else:\n",
    "    if(b>c):\n",
    "        print(b,\" is largest\")\n",
    "    else:\n",
    "        print(c,\" is largest\")"
   ]
  },
  {
   "cell_type": "code",
   "execution_count": null,
   "id": "8901a045",
   "metadata": {},
   "outputs": [
    {
     "name": "stdout",
     "output_type": "stream",
     "text": [
      "{'h': 1, 'e': 1, 'l': 2, 'o': 1}\n"
     ]
    }
   ],
   "source": [
    "#14. Problem: Count how many times each character appears in a string.\n",
    "d={}\n",
    "s=str(input())\n",
    "for i in s:\n",
    "    if( i in d):\n",
    "        d[i]+=1\n",
    "    else:\n",
    "        d[i]=1\n",
    "print(d)"
   ]
  },
  {
   "cell_type": "code",
   "execution_count": 7,
   "id": "4dcf9245",
   "metadata": {},
   "outputs": [
    {
     "name": "stdout",
     "output_type": "stream",
     "text": [
      "bill is  495\n"
     ]
    }
   ],
   "source": [
    "'''15. Problem: Calculate electricity bill:\n",
    "First 100 units → ₹5/unit\n",
    "Next 100 units → ₹7/unit\n",
    "Above 200 units → ₹10/unit\n",
    "'''\n",
    "n=int(input())\n",
    "if n<=100:\n",
    "    print(\"bill is \",n*5)\n",
    "elif n>100 and n<=200:\n",
    "    print(\"bill is \",n*7)\n",
    "else:\n",
    "    print(\"bill is \",n*10)\n"
   ]
  },
  {
   "cell_type": "code",
   "execution_count": 10,
   "id": "3729d3d3",
   "metadata": {},
   "outputs": [
    {
     "name": "stdout",
     "output_type": "stream",
     "text": [
      "['ba', 'c', 'd']\n"
     ]
    }
   ],
   "source": [
    "#16.Problem: Sort a list of names in ascending order.\n",
    "l=list(map(str,input().split()))\n",
    "l.sort()\n",
    "print(l)"
   ]
  },
  {
   "cell_type": "code",
   "execution_count": null,
   "id": "27b8c7fb",
   "metadata": {},
   "outputs": [
    {
     "name": "stdout",
     "output_type": "stream",
     "text": [
      "4321\n"
     ]
    }
   ],
   "source": [
    "#17.Problem: Input: 1234 → Output: 4321\n",
    "n=int(input())\n",
    "i=0\n",
    "n=str(n)\n",
    "n=list(n)\n",
    "j=len((n))-1\n",
    "while(i<j):\n",
    "    n[i],n[j]=n[j],n[i]\n",
    "    i+=1\n",
    "    j-=1\n",
    "print(\"\".join(n))\n"
   ]
  },
  {
   "cell_type": "code",
   "execution_count": 16,
   "id": "28262546",
   "metadata": {},
   "outputs": [
    {
     "name": "stdout",
     "output_type": "stream",
     "text": [
      "[1, 2, 3, -1, -2, 0, 0]\n",
      "Positive count is  3\n",
      "negative count is  2\n",
      "zero count is  2\n"
     ]
    }
   ],
   "source": [
    "#18. Problem: Given a list, count positive, negative, and zero numbers.\n",
    "l=list(map(int,input().split()))\n",
    "zcount=pcount=ncunt=0\n",
    "for i in l:\n",
    "    if( i==0):\n",
    "        zcount+=1\n",
    "    elif i>0:\n",
    "        pcount+=1\n",
    "    else:\n",
    "        ncunt+=1\n",
    "print(l)\n",
    "print(\"Positive count is \",pcount)\n",
    "print(\"negative count is \",ncunt)\n",
    "print(\"zero count is \",zcount)"
   ]
  },
  {
   "cell_type": "code",
   "execution_count": null,
   "id": "1894a277",
   "metadata": {},
   "outputs": [
    {
     "name": "stdout",
     "output_type": "stream",
     "text": [
      "fail\n"
     ]
    }
   ],
   "source": [
    "#19. Problem: User has 3 attempts to enter correct PIN.\n",
    "\n",
    "apin=int(input())\n",
    "i=0\n",
    "while(i!=3):\n",
    "    epin=int(input())\n",
    "    if epin==apin:\n",
    "        print(\"Correct pin\")\n",
    "        break\n",
    "    i+=1\n",
    "if(i==3):\n",
    "    print(\"fail\")"
   ]
  },
  {
   "cell_type": "code",
   "execution_count": null,
   "id": "ac657370",
   "metadata": {},
   "outputs": [
    {
     "name": "stdout",
     "output_type": "stream",
     "text": [
      "o canot be divided\n"
     ]
    }
   ],
   "source": [
    "#20. Problem: Write a program that asks for two numbers and divides them. Handle division by zero.\n",
    "a=int(input())\n",
    "b=int(input())\n",
    "try:\n",
    "    c=a/b\n",
    "    print(c)\n",
    "except:\n",
    "    print(\"0 canot be divided\")"
   ]
  },
  {
   "cell_type": "code",
   "execution_count": 23,
   "id": "ac140776",
   "metadata": {},
   "outputs": [
    {
     "name": "stdout",
     "output_type": "stream",
     "text": [
      "0.6666666666666666\n"
     ]
    }
   ],
   "source": [
    "#21. Problem: Write a program that handles both ValueError (invalid input) and ZeroDivisionError.\n",
    "try:\n",
    "    a=int(input())\n",
    "    b=int(input())\n",
    "    c=a/b\n",
    "    print(c)\n",
    "except ZeroDivisionError:\n",
    "    print(\"0 canot be divided\")\n",
    "except ValueError:\n",
    "    print(\"Enter valid value\")"
   ]
  },
  {
   "cell_type": "code",
   "execution_count": 27,
   "id": "b5294f3e",
   "metadata": {},
   "outputs": [
    {
     "name": "stdout",
     "output_type": "stream",
     "text": [
      "Error : greater amount unsuccessful\n"
     ]
    }
   ],
   "source": [
    "#22. Problem: If withdrawal amount is greater than balance, raise an exception.\n",
    "bal=9999\n",
    "n=int(input())\n",
    "try:\n",
    "    if n==bal:\n",
    "        print(\"successful\")\n",
    "    else:\n",
    "        raise Exception(\"greater amount unsuccessful\")\n",
    "except Exception as e:\n",
    "    print('Error :',e)"
   ]
  },
  {
   "cell_type": "code",
   "execution_count": 28,
   "id": "75920565",
   "metadata": {},
   "outputs": [
    {
     "name": "stdout",
     "output_type": "stream",
     "text": [
      "enter correct value\n"
     ]
    }
   ],
   "source": [
    "'''23. Problem: Calculate total price, handle invalid input, and always show \"Bill processing finished\".\n",
    "• First 100 units → ₹5/unit\n",
    "• Next 100 units → ₹7/unit\n",
    "• Above 200 units → ₹10/uni'''\n",
    "try:\n",
    "    n=int(input())\n",
    "    if n<=100:\n",
    "        print(\"bill is \",n*5)\n",
    "    elif n>100 and n<=200:\n",
    "        print(\"bill is \",n*7)\n",
    "    else:\n",
    "        print(\"bill is \",n*10)\n",
    "except ValueError:\n",
    "    print(\"enter correct value\")"
   ]
  }
 ],
 "metadata": {
  "kernelspec": {
   "display_name": "Python 3",
   "language": "python",
   "name": "python3"
  },
  "language_info": {
   "codemirror_mode": {
    "name": "ipython",
    "version": 3
   },
   "file_extension": ".py",
   "mimetype": "text/x-python",
   "name": "python",
   "nbconvert_exporter": "python",
   "pygments_lexer": "ipython3",
   "version": "3.10.0"
  }
 },
 "nbformat": 4,
 "nbformat_minor": 5
}
