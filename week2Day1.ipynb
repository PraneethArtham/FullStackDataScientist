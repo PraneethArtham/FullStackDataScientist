{
 "cells": [
  {
   "cell_type": "code",
   "execution_count": 19,
   "id": "bf8d8156",
   "metadata": {},
   "outputs": [
    {
     "name": "stdout",
     "output_type": "stream",
     "text": [
      "[2, 3, 5, 7, 11, 13, 17, 19]\n"
     ]
    }
   ],
   "source": [
    "'''1. Prime Number Finder\n",
    " \n",
    "   * Function that returns all prime numbers up to `n`.\n",
    "   * Input: `n = 20`\n",
    "   * Output: `[2, 3, 5, 7, 11, 13, 17, 19]`\n",
    " '''\n",
    "n=int(input())\n",
    "res=[]\n",
    "for i in range(2,n+1):\n",
    "    flag=True\n",
    "    for j in range(2,int(i**(0.5))+1):\n",
    "        if(i%j==0):\n",
    "            flag=False\n",
    "            break\n",
    "    if(flag):\n",
    "        res.append(i)\n",
    "print(res)"
   ]
  },
  {
   "cell_type": "code",
   "execution_count": 29,
   "id": "a8233b59",
   "metadata": {},
   "outputs": [
    {
     "name": "stdout",
     "output_type": "stream",
     "text": [
      "Palindrome number: aa \n"
     ]
    }
   ],
   "source": [
    "'''2. Palindrome Checker\n",
    " \n",
    "   * Check if a string is palindrome (ignoring spaces & case).\n",
    "   * Input: `\"Never odd or even\"`\n",
    "   * Output: `True`'''\n",
    "s=str(input())\n",
    "i=0\n",
    "j=len(s)-1\n",
    "flag=True\n",
    "while(i<=j):\n",
    "    if(s[i]==\" \"):\n",
    "        i+=1\n",
    "    if(s[j]==\" \"):\n",
    "        j-=1\n",
    "    if(s[i].lower()!=s[j].lower()):\n",
    "        flag=False\n",
    "        break\n",
    "    i+=1\n",
    "    j-=1\n",
    "if(flag):\n",
    "    print(\"Palindrome number:\",s)\n",
    "else:\n",
    "    print(\"Not a Palindrome number:\",s)\n"
   ]
  },
  {
   "cell_type": "code",
   "execution_count": 30,
   "id": "168b1280",
   "metadata": {},
   "outputs": [
    {
     "name": "stdout",
     "output_type": "stream",
     "text": [
      "Anagrams\n"
     ]
    }
   ],
   "source": [
    "'''3. Anagram Checker\n",
    " \n",
    "   * Function checks if two words are anagrams.\n",
    "   * Input: `\"listen\", \"silent\"`\n",
    "   * Output: `True`'''\n",
    "from collections import Counter\n",
    "a,b=map(str,input().split())\n",
    "if(Counter(a)==Counter(b)):\n",
    "    print(\"Anagrams\")\n",
    "else:\n",
    "    print(\"Not a anagrams\")"
   ]
  },
  {
   "cell_type": "code",
   "execution_count": null,
   "id": "02cc55d3",
   "metadata": {},
   "outputs": [
    {
     "name": "stdout",
     "output_type": "stream",
     "text": [
      "Vowel count is  2\n",
      "Consonants count is  3\n"
     ]
    }
   ],
   "source": [
    "'''4. Count Vowels & Consonants\n",
    " \n",
    "   * Return count of vowels & consonants.\n",
    "   * Input: `\"hello\"`\n",
    "   * Output: `Vowels=2, Consonants=3`\n",
    " '''\n",
    "s=str(input())\n",
    "vowels='aeiouAEIOU'\n",
    "vcount=0\n",
    "ccount=0\n",
    "for i in s:\n",
    "    if i in vowels:\n",
    "        vcount+=1\n",
    "    else:\n",
    "        ccount+=1\n",
    "print(\"Vowel count is \",vcount)\n",
    "print(\"Consonants count is \",ccount)"
   ]
  },
  {
   "cell_type": "code",
   "execution_count": 35,
   "id": "9d5a4ae3",
   "metadata": {},
   "outputs": [
    {
     "name": "stdout",
     "output_type": "stream",
     "text": [
      "praneeth\n"
     ]
    }
   ],
   "source": [
    "'''5. Longest Word Finder\n",
    " \n",
    "* Return longest word in a sentence.\n",
    "* Input: `\"Python is amazing\"`\n",
    "* Output: `\"amazing\"`'''\n",
    "s=str(input())\n",
    "list1=s.split(\" \")\n",
    "maxl=0\n",
    "maxs=\"\"\n",
    "for i in list1:\n",
    "    if(len(i)>maxl):\n",
    "        maxl=max(maxl,len(i))\n",
    "        maxs=i\n",
    "print(maxs)"
   ]
  },
  {
   "cell_type": "code",
   "execution_count": 74,
   "id": "c3e8bbaf",
   "metadata": {},
   "outputs": [
    {
     "name": "stdout",
     "output_type": "stream",
     "text": [
      "?3a!M^&\n"
     ]
    }
   ],
   "source": [
    "''''1. Random Password Generator (`random`, `string`)\n",
    " \n",
    "* Input: `length=6`\n",
    "* Output: `\"aB9@xQ\"`'''\n",
    "import random\n",
    "n=int(input())\n",
    "s=\"\"\n",
    "for i in range(n):\n",
    "    r=int(random.random()*100)\n",
    "    while(r<32):\n",
    "        r=int(random.random()*100)\n",
    "    s+=chr(r)\n",
    "print(s)"
   ]
  },
  {
   "cell_type": "code",
   "execution_count": 82,
   "id": "69b5fb8f",
   "metadata": {},
   "outputs": [
    {
     "name": "stdout",
     "output_type": "stream",
     "text": [
      "6\n"
     ]
    }
   ],
   "source": [
    "'''2. Simple Calculator with `math`\n",
    " \n",
    "* Perform sqrt, factorial, sin, cos.\n",
    "* Input: `sqrt(25)`\n",
    "* Output: `5.0`'''\n",
    "s=str(input())\n",
    "val=\"\"\n",
    "flag=False\n",
    "for i in s:\n",
    "    if(i==\"(\"):\n",
    "        flag=True\n",
    "        continue\n",
    "    if(i==\")\"):\n",
    "        flag=False\n",
    "        break\n",
    "    if(flag):\n",
    "        val+=i\n",
    "    if(i==\")\"):\n",
    "        flag=False\n",
    "        break\n",
    "val=int(val)\n",
    "if(\"sqrt\" in s):\n",
    "    print(math.sqrt(val))\n",
    "elif(\"fact\" in s):\n",
    "    print(math.factorial(val))\n",
    "elif(\"sin\" in s):\n",
    "    print(math.sin(val))\n",
    "elif(\"cos\" in s):\n",
    "    print(math.cos(val))"
   ]
  },
  {
   "cell_type": "code",
   "execution_count": 90,
   "id": "ac74e6b2",
   "metadata": {},
   "outputs": [
    {
     "name": "stdout",
     "output_type": "stream",
     "text": [
      "({'cat': 2, 'dog': 1})\n"
     ]
    }
   ],
   "source": [
    "'''3. Word Frequency Counter (`collections.Counter`)\n",
    " \n",
    "* Input: `\"cat dog cat\"`\n",
    "* Output: `{'cat':2,'dog':1}`'''\n",
    "s=str(input())\n",
    "l=s.split(\" \")\n",
    "ans=str(Counter(l))\n",
    "print(ans[7:])"
   ]
  },
  {
   "cell_type": "code",
   "execution_count": 92,
   "id": "b08bf78b",
   "metadata": {},
   "outputs": [
    {
     "name": "stdout",
     "output_type": "stream",
     "text": [
      "5\n",
      "4\n",
      "3\n",
      "2\n",
      "1\n",
      "0\n",
      "Time’s up!\n"
     ]
    }
   ],
   "source": [
    "'''5. Timer Program (`time`)\n",
    " \n",
    "* Input: `countdown(5)`\n",
    "* Output:\n",
    " \n",
    "  ```\n",
    "  5  \n",
    "  4  \n",
    "  3  \n",
    "  2  \n",
    "  1  \n",
    "  Time’s up!\n",
    "  ```'''\n",
    "s=str(input())\n",
    "val=\"\"\n",
    "flag=False\n",
    "for i in s:\n",
    "    if(i==\"(\"):\n",
    "        flag=True\n",
    "        continue\n",
    "    if(i==\")\"):\n",
    "        flag=False\n",
    "        break\n",
    "    if(flag):\n",
    "        val+=i\n",
    "    if(i==\")\"):\n",
    "        flag=False\n",
    "        break\n",
    "val=int(val)\n",
    "for i in range(val,-1,-1):\n",
    "    print(i)\n",
    "print(\"Time’s up!\")"
   ]
  },
  {
   "cell_type": "code",
   "execution_count": 100,
   "id": "21d9287c",
   "metadata": {},
   "outputs": [
    {
     "name": "stdout",
     "output_type": "stream",
     "text": [
      "Weather: Cloudy, Temp: 24°C\n"
     ]
    }
   ],
   "source": [
    "'''4. Weather Simulator (`random`)\n",
    " \n",
    "* Input: None\n",
    "* Output: `\"Weather: Sunny, Temp: 32°C\"`'''\n",
    "import random\n",
    "\n",
    "def weather_simulator():\n",
    "    weather_conditions = [\"Sunny\", \"Rainy\", \"Cloudy\", \"Windy\", \"Stormy\"]\n",
    "    weather = random.choice(weather_conditions)       \n",
    "    temperature = random.randint(15, 40)              \n",
    "    print(f\"Weather: {weather}, Temp: {temperature}°C\")\n",
    "\n",
    "weather_simulator()\n"
   ]
  },
  {
   "cell_type": "code",
   "execution_count": null,
   "id": "f145ee07",
   "metadata": {},
   "outputs": [
    {
     "name": "stdout",
     "output_type": "stream",
     "text": [
      "Balance: 120\n"
     ]
    }
   ],
   "source": [
    "'''1. Bank Account Class\n",
    " \n",
    "Attributes:\n",
    " \n",
    "* balance → stores the current money in the account\n",
    "* owner (optional) → name of account holder\n",
    " \n",
    "Methods:\n",
    " \n",
    "* deposit(amount) → adds money to balance\n",
    "* withdraw(amount) → subtracts money if enough funds\n",
    "* get_balance() → returns balance\n",
    " \n",
    "Example:\n",
    " \n",
    "python\n",
    "acc = BankAccount(100)   # initial balance = 100\n",
    "acc.deposit(50)          # balance = 150\n",
    "acc.withdraw(30)         # balance = 120\n",
    "print(acc.get_balance())\n",
    "\n",
    " \n",
    "Output:\n",
    " \n",
    "\n",
    "Balance: 120\n",
    "'''\n",
    "class BankAccount:\n",
    "    def __init__(self, balance):\n",
    "        self.balance = balance\n",
    "        \n",
    "\n",
    "    def deposit(self, amount):\n",
    "        if amount > 0:\n",
    "            self.balance += amount\n",
    "        else:\n",
    "            print(\"Deposit amount must be positive!\")\n",
    "\n",
    "    def withdraw(self, amount):\n",
    "        if amount <= self.balance:\n",
    "            self.balance -= amount\n",
    "        else:\n",
    "            print(\"Insufficient funds!\")\n",
    "\n",
    "    def get_balance(self):\n",
    "        return f\"Balance: {self.balance}\"\n",
    "\n",
    "\n",
    "acc = BankAccount(100)\n",
    "acc.deposit(50)\n",
    "acc.withdraw(30)\n",
    "print(acc.get_balance())  \n",
    "\n",
    "        "
   ]
  },
  {
   "cell_type": "code",
   "execution_count": null,
   "id": "b4f2e089",
   "metadata": {},
   "outputs": [
    {
     "name": "stdout",
     "output_type": "stream",
     "text": [
      "85.0\n",
      "95\n"
     ]
    }
   ],
   "source": [
    "class Student:\n",
    "    def __init__(self, name, marks):\n",
    "        self.name = name\n",
    "        self.marks = marks\n",
    "\n",
    "    def get_average(self):\n",
    "        if not self.marks:\n",
    "            return 0\n",
    "        return sum(self.marks) / len(self.marks)\n",
    "\n",
    "    def add_mark(self, mark):\n",
    "        self.marks.append(mark)\n",
    "\n",
    "    def get_highest(self):\n",
    "        return max(self.marks)\n",
    "\n",
    "    def get_lowest(self):\n",
    "        return min(self.marks) \n",
    "\n",
    "s = Student(\"Tom\", [90, 80, 85])\n",
    "print(s.get_average())  \n",
    "s.add_mark(95)\n",
    "print(s.get_highest()) \n"
   ]
  },
  {
   "cell_type": "code",
   "execution_count": 3,
   "id": "b60e69fb",
   "metadata": {},
   "outputs": [
    {
     "name": "stdout",
     "output_type": "stream",
     "text": [
      "10000.0\n"
     ]
    }
   ],
   "source": [
    "class Employee:\n",
    "    def __init__(self, name, salary):\n",
    "        self.name = name\n",
    "        self.salary = salary\n",
    "\n",
    "    def bonus(self):\n",
    "        return 0\n",
    "\n",
    "\n",
    "class Manager(Employee):\n",
    "    def bonus(self):\n",
    "        return 0.2 * self.salary\n",
    "\n",
    "\n",
    "class Developer(Employee):\n",
    "    def bonus(self):\n",
    "        return 0.1 * self.salary\n",
    "\n",
    "\n",
    "class Intern(Employee):\n",
    "    def bonus(self):\n",
    "        return 0.05 * self.salary\n",
    "\n",
    "m = Manager(\"Alice\", 50000)\n",
    "print(m.bonus())\n"
   ]
  },
  {
   "cell_type": "code",
   "execution_count": 6,
   "id": "87b1f385",
   "metadata": {},
   "outputs": [
    {
     "name": "stdout",
     "output_type": "stream",
     "text": [
      "153.94\n",
      "20\n"
     ]
    }
   ],
   "source": [
    "import math\n",
    "\n",
    "class Shape:\n",
    "    def __init__(self, name):\n",
    "        self.name = name\n",
    "\n",
    "    def area(self):\n",
    "        raise NotImplementedError(\"Subclass must implement area()\")\n",
    "\n",
    "\n",
    "class Circle(Shape):\n",
    "    def __init__(self, radius):\n",
    "        self.radius = radius\n",
    "\n",
    "    def area(self):\n",
    "        return round(math.pi * self.radius ** 2, 2)\n",
    "\n",
    "\n",
    "class Rectangle(Shape):\n",
    "    def __init__(self, width, height):\n",
    "        self.width = width\n",
    "        self.height = height\n",
    "\n",
    "    def area(self):\n",
    "        return self.width * self.height\n",
    "\n",
    "c = Circle(7)\n",
    "print(c.area())  \n",
    "r = Rectangle(4, 5)\n",
    "print(r.area())\n"
   ]
  },
  {
   "cell_type": "code",
   "execution_count": 7,
   "id": "de3e1fc8",
   "metadata": {},
   "outputs": [
    {
     "name": "stdout",
     "output_type": "stream",
     "text": [
      "Total = 2000\n",
      "['Shirt', 'Shoes']\n"
     ]
    }
   ],
   "source": [
    "class Order:\n",
    "    def __init__(self):\n",
    "        self.items = {}\n",
    "\n",
    "    def add(self, item, price):\n",
    "        self.items[item] = price\n",
    "\n",
    "    def remove(self, item):\n",
    "        if item in self.items:\n",
    "            del self.items[item]\n",
    "        else:\n",
    "            print(f\"{item} not found in order.\")\n",
    "\n",
    "    def calculate_total(self):\n",
    "        return f\"Total = {sum(self.items.values())}\"\n",
    "\n",
    "    def show_items(self):\n",
    "        return list(self.items.keys())\n",
    "\n",
    "order = Order()\n",
    "order.add(\"Shirt\", 500)\n",
    "order.add(\"Shoes\", 1500)\n",
    "print(order.calculate_total())  \n",
    "print(order.show_items())\n"
   ]
  },
  {
   "cell_type": "code",
   "execution_count": 10,
   "id": "95255858",
   "metadata": {},
   "outputs": [
    {
     "name": "stdout",
     "output_type": "stream",
     "text": [
      "0 1 1 2 3 5 8 "
     ]
    }
   ],
   "source": [
    "#fibonacci\n",
    "def fibo(n):\n",
    "    if(n==0):\n",
    "        return 0\n",
    "    elif(n==1):\n",
    "        return 1\n",
    "    else:\n",
    "        return fibo(n-1)+fibo(n-2)\n",
    "n=int(input())\n",
    "for i in range(n):\n",
    "    print(fibo(i),end=\" \")\n"
   ]
  },
  {
   "cell_type": "code",
   "execution_count": 12,
   "id": "323181c8",
   "metadata": {},
   "outputs": [
    {
     "name": "stdout",
     "output_type": "stream",
     "text": [
      "720\n"
     ]
    }
   ],
   "source": [
    "#fact\n",
    "def fact(n):\n",
    "    if(n==1):\n",
    "        return 1\n",
    "    return n*fact(n-1)\n",
    "n=int(input())\n",
    "print(fact(n))"
   ]
  },
  {
   "cell_type": "code",
   "execution_count": 13,
   "id": "916f41e9",
   "metadata": {},
   "outputs": [
    {
     "name": "stdout",
     "output_type": "stream",
     "text": [
      "Counter({'apple': 2, 'banana': 2, 'orange': 1})\n"
     ]
    }
   ],
   "source": [
    "'''3. Unique Words Counter\n",
    " \n",
    "* Return unique words in a sentence.\n",
    " \n",
    "* Input: \"apple banana apple orange banana\"\n",
    " \n",
    "* Output: {'apple':2,'banana':2,'orange':1}\n",
    "'''\n",
    "from collections import Counter\n",
    "s=list(map(str,input().split()))\n",
    "print(Counter(s))"
   ]
  },
  {
   "cell_type": "code",
   "execution_count": 14,
   "id": "70808624",
   "metadata": {},
   "outputs": [
    {
     "name": "stdout",
     "output_type": "stream",
     "text": [
      "Grade: A\n"
     ]
    }
   ],
   "source": [
    "'''4. Grade Calculator\n",
    " \n",
    "* Function takes marks and returns grade.\n",
    " \n",
    "* Input: [85, 90, 78]\n",
    " \n",
    "* Output: \"Grade: A\"\n",
    "'''\n",
    "def grade_calculator(marks):\n",
    "    avg = sum(marks) / len(marks)\n",
    "    if avg >= 90:\n",
    "        grade = \"A+\"\n",
    "    elif avg >= 80:\n",
    "        grade = \"A\"\n",
    "    elif avg >= 70:\n",
    "        grade = \"B\"\n",
    "    elif avg >= 60:\n",
    "        grade = \"C\"\n",
    "    else:\n",
    "        grade = \"F\"\n",
    "    return f\"Grade: {grade}\"\n",
    "\n",
    "print(grade_calculator([85, 90, 78]))  \n"
   ]
  },
  {
   "cell_type": "code",
   "execution_count": 15,
   "id": "a1f4744f",
   "metadata": {},
   "outputs": [
    {
     "name": "stdout",
     "output_type": "stream",
     "text": [
      "10\n"
     ]
    }
   ],
   "source": [
    "def second_largest(nums):\n",
    "    unique_nums = list(set(nums))\n",
    "    unique_nums.sort()\n",
    "    return unique_nums[-2] if len(unique_nums) >= 2 else \"single ele in arr\"\n",
    "\n",
    "print(second_largest([10, 5, 20, 8]))  \n"
   ]
  },
  {
   "cell_type": "code",
   "execution_count": null,
   "id": "6d8e8334",
   "metadata": {},
   "outputs": [
    {
     "name": "stdout",
     "output_type": "stream",
     "text": [
      "Text files: 5\n",
      "Python files: 1\n"
     ]
    }
   ],
   "source": [
    "import os\n",
    "\n",
    "def count_files():\n",
    "    txt_count = py_count = 0\n",
    "    for file in os.listdir():\n",
    "        if file.endswith(\".html\"):\n",
    "            txt_count += 1\n",
    "        elif file.endswith(\".py\"):\n",
    "            py_count += 1\n",
    "    print(f\"html files: {txt_count}\")\n",
    "    print(f\"Python files: {py_count}\")\n",
    "\n",
    "count_files()\n"
   ]
  },
  {
   "cell_type": "code",
   "execution_count": 20,
   "id": "a78996ed",
   "metadata": {},
   "outputs": [
    {
     "name": "stdout",
     "output_type": "stream",
     "text": [
      "Mean = 87.86\n",
      "Median = 90\n",
      "Variance = 73.81\n"
     ]
    }
   ],
   "source": [
    "import statistics\n",
    "\n",
    "scores = [75, 80, 90, 100, 85, 90, 95]\n",
    "\n",
    "print(\"Mean =\", round(statistics.mean(scores), 2))\n",
    "print(\"Median =\", statistics.median(scores))\n",
    "print(\"Variance =\", round(statistics.variance(scores), 2))\n"
   ]
  },
  {
   "cell_type": "code",
   "execution_count": 21,
   "id": "ab29e7ea",
   "metadata": {},
   "outputs": [
    {
     "name": "stdout",
     "output_type": "stream",
     "text": [
      "Roots are: (2.0, 1.0)\n"
     ]
    }
   ],
   "source": [
    "import math\n",
    "\n",
    "def quadratic(a, b, c):\n",
    "    d = b**2 - 4*a*c\n",
    "    if d < 0:\n",
    "        return \"No Real Roots\"\n",
    "    root1 = (-b + math.sqrt(d)) / (2*a)\n",
    "    root2 = (-b - math.sqrt(d)) / (2*a)\n",
    "    return root1, root2\n",
    "\n",
    "print(\"Roots are:\", quadratic(1, -3, 2)) \n"
   ]
  },
  {
   "cell_type": "code",
   "execution_count": null,
   "id": "3cc4b456",
   "metadata": {},
   "outputs": [
    {
     "name": "stdout",
     "output_type": "stream",
     "text": [
      "You chose Rock, Computer chose Scissors\n",
      "You Win!\n"
     ]
    }
   ],
   "source": [
    "import random\n",
    "\n",
    "def play_rps(user_choice):\n",
    "    options = [\"Rock\", \"Paper\", \"Scissors\"]\n",
    "    computer = random.choice(options)\n",
    "\n",
    "    if user_choice == computer:\n",
    "        result = \"It's a Draw!\"\n",
    "    elif (user_choice == \"Rock\" and computer == \"Scissors\") or \\\n",
    "         (user_choice == \"Paper\" and computer == \"Rock\") or \\\n",
    "         (user_choice == \"Scissors\" and computer == \"Paper\"):\n",
    "        result = \"You Win!\"\n",
    "    else:\n",
    "        result = \"You Lose!\"\n",
    "\n",
    "    print(f\"You chose {user_choice}, Computer chose {computer}\")\n",
    "    return result\n",
    "\n",
    "print(play_rps(\"Rock\"))\n"
   ]
  },
  {
   "cell_type": "code",
   "execution_count": 23,
   "id": "42388f13",
   "metadata": {},
   "outputs": [
    {
     "name": "stdout",
     "output_type": "stream",
     "text": [
      "You borrowed Python 101\n",
      "You returned Python 101\n",
      "Available books: {'Python 101': 3, 'Data Science': 2}\n"
     ]
    }
   ],
   "source": [
    "class Library:\n",
    "    def __init__(self, books):\n",
    "        self.books = books\n",
    "\n",
    "    def borrow(self, title):\n",
    "        if title in self.books and self.books[title] > 0:\n",
    "            self.books[title] -= 1\n",
    "            return f\"You borrowed {title}\"\n",
    "        return \"Book not available\"\n",
    "\n",
    "    def return_book(self, title):\n",
    "        if title in self.books:\n",
    "            self.books[title] += 1\n",
    "            return f\"You returned {title}\"\n",
    "        return \"Invalid book\"\n",
    "\n",
    "    def show_books(self):\n",
    "        print(\"Available books:\", self.books)\n",
    "\n",
    "lib = Library({\"Python 101\": 3, \"Data Science\": 2})\n",
    "print(lib.borrow(\"Python 101\"))\n",
    "print(lib.return_book(\"Python 101\"))\n",
    "lib.show_books()\n"
   ]
  },
  {
   "cell_type": "code",
   "execution_count": 24,
   "id": "35e07fe7",
   "metadata": {},
   "outputs": [
    {
     "name": "stdout",
     "output_type": "stream",
     "text": [
      "Access Granted\n",
      "Deposited 200\n",
      "Withdrew 100\n",
      "Balance: 600\n"
     ]
    }
   ],
   "source": [
    "class ATM:\n",
    "    def __init__(self, pin, balance):\n",
    "        self.pin = pin\n",
    "        self.balance = balance\n",
    "        self.is_authenticated = False\n",
    "\n",
    "    def login(self, pin):\n",
    "        if pin == self.pin:\n",
    "            self.is_authenticated = True\n",
    "            return \"Access Granted\"\n",
    "        return \"Access Denied\"\n",
    "\n",
    "    def check_balance(self):\n",
    "        return f\"Balance: {self.balance}\" if self.is_authenticated else \"Login required\"\n",
    "\n",
    "    def deposit(self, amount):\n",
    "        if self.is_authenticated:\n",
    "            self.balance += amount\n",
    "            return f\"Deposited {amount}\"\n",
    "        return \"Login required\"\n",
    "\n",
    "    def withdraw(self, amount):\n",
    "        if self.is_authenticated:\n",
    "            if amount <= self.balance:\n",
    "                self.balance -= amount\n",
    "                return f\"Withdrew {amount}\"\n",
    "            return \"Insufficient funds\"\n",
    "        return \"Login required\"\n",
    "\n",
    "atm = ATM(1234, 500)\n",
    "print(atm.login(1234))\n",
    "print(atm.deposit(200))\n",
    "print(atm.withdraw(100))\n",
    "print(atm.check_balance())\n"
   ]
  },
  {
   "cell_type": "code",
   "execution_count": 25,
   "id": "b8426c29",
   "metadata": {},
   "outputs": [
    {
     "name": "stdout",
     "output_type": "stream",
     "text": [
      "Dr. Smith is teaching Python\n",
      "Alice enrolled in Python\n",
      "Dr. Smith assigned: Project 1\n",
      "Alice submitted: Project 1\n"
     ]
    }
   ],
   "source": [
    "class Professor:\n",
    "    def __init__(self, name, subject):\n",
    "        self.name = name\n",
    "        self.subject = subject\n",
    "\n",
    "    def teach(self, course):\n",
    "        return f\"{self.name} is teaching {course}\"\n",
    "\n",
    "    def give_assignment(self, task):\n",
    "        return f\"{self.name} assigned: {task}\"\n",
    "\n",
    "\n",
    "class Student:\n",
    "    def __init__(self, name):\n",
    "        self.name = name\n",
    "        self.courses = []\n",
    "        self.assignments = []\n",
    "\n",
    "    def enroll(self, course):\n",
    "        self.courses.append(course)\n",
    "        return f\"{self.name} enrolled in {course}\"\n",
    "\n",
    "    def submit_assignment(self, task):\n",
    "        self.assignments.append(task)\n",
    "        return f\"{self.name} submitted: {task}\"\n",
    "\n",
    "prof = Professor(\"Dr. Smith\", \"Computer Science\")\n",
    "stud = Student(\"Alice\")\n",
    "print(prof.teach(\"Python\"))\n",
    "print(stud.enroll(\"Python\"))\n",
    "print(prof.give_assignment(\"Project 1\"))\n",
    "print(stud.submit_assignment(\"Project 1\"))\n"
   ]
  },
  {
   "cell_type": "code",
   "execution_count": 31,
   "id": "caeeef2d",
   "metadata": {},
   "outputs": [
    {
     "name": "stdout",
     "output_type": "stream",
     "text": [
      "Tickets booked\n",
      "{'Avatar': 10, 'Batman': 4}\n"
     ]
    }
   ],
   "source": [
    "'''## 4. Movie Ticket Booking\n",
    " \n",
    "Create a Cinema class with:\n",
    " \n",
    "*Attributes: movies (dict → movie: seats available)\n",
    " \n",
    "*Methods:\n",
    " \n",
    "* book(movie, seats) → reduces seat count\n",
    " \n",
    "* cancel(movie, seats) → adds back seats\n",
    " \n",
    "* show_movies() → shows available seats\n",
    " \n",
    "Sample Input:\n",
    " \n",
    "python\n",
    " \n",
    "cinema = Cinema({\"Avatar\": 10, \"Batman\": 5})\n",
    " \n",
    "print(cinema.book(\"Avatar\", 2))\n",
    " \n",
    "print(cinema.cancel(\"Avatar\", 1))\n",
    " \n",
    "cinema.show_movies()\n",
    " \n",
    "\n",
    " \n",
    "Sample Output:\n",
    " \n",
    "\n",
    " \n",
    "Booked 2 tickets for Avatar\n",
    " \n",
    "Cancelled 1 ticket for Avatar\n",
    " \n",
    "Movies: {'Avatar': 9, 'Batman': 5}\n",
    "'''\n",
    "class Theatre:\n",
    "    def __init__(self,movies):\n",
    "        self.movies=movies\n",
    "    def book(self,key,val):\n",
    "        if(key in self.movies and val<=self.movies[key]):\n",
    "            self.movies[key]-=val\n",
    "            print(\"Tickets booked\")\n",
    "        else:\n",
    "            print(\"Invalid book\")\n",
    "    def cancel(self,key,val):\n",
    "        if(key in self.movies):\n",
    "            self.movies[key]+=val\n",
    "        else:\n",
    "            print(\"Invalid\")\n",
    "    def show(self):\n",
    "        print(self.movies)\n",
    "m=Theatre({'Avatar': 9, 'Batman': 5})\n",
    "m.book(\"Batman\",1)\n",
    "m.cancel(\"Avatar\",1)\n",
    "m.show()"
   ]
  }
 ],
 "metadata": {
  "kernelspec": {
   "display_name": "Python 3",
   "language": "python",
   "name": "python3"
  },
  "language_info": {
   "codemirror_mode": {
    "name": "ipython",
    "version": 3
   },
   "file_extension": ".py",
   "mimetype": "text/x-python",
   "name": "python",
   "nbconvert_exporter": "python",
   "pygments_lexer": "ipython3",
   "version": "3.10.0"
  }
 },
 "nbformat": 4,
 "nbformat_minor": 5
}
